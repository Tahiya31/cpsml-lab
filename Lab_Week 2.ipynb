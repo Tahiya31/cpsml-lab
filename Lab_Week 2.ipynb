{
 "cells": [
  {
   "cell_type": "markdown",
   "metadata": {},
   "source": [
    "# Instructions"
   ]
  },
  {
   "cell_type": "markdown",
   "metadata": {},
   "source": [
    "Lab 2 consists of 10 questions.\n",
    "\n",
    "● In session 1, you will work on the first 5 problems, and in session 2, you will work on the last 5 problems. \n",
    "\n",
    "● Once completed, you will submit all 10 exercises as jupyter notebooks (as a single .ipynb file) through e-mail at 'tahiya.chowdhury@rutgers.edu' for grading.\n",
    "\n",
    "● In the e-mail, use subject line: `CPSML: Week 2 _ your full name`\n",
    "\n",
    "● Both the jupyter notebook and e-mail should contain your name in English."
   ]
  },
  {
   "cell_type": "markdown",
   "metadata": {},
   "source": [
    "# Numpy"
   ]
  },
  {
   "cell_type": "markdown",
   "metadata": {},
   "source": [
    "In this lab you will start with a python library called Numpy, used for data science and machine learning projects.\n",
    "\n",
    "Numpy introduces objects for multidimensional arrays and matrices.\n",
    "It allows functions to easily perform advanced mathematical and statistical operations.\n",
    "\n",
    "To learn more about numpy, check here: https://numpy.org/doc/stable/user/basics.html\n"
   ]
  },
  {
   "cell_type": "markdown",
   "metadata": {},
   "source": [
    "## Problem 1"
   ]
  },
  {
   "cell_type": "markdown",
   "metadata": {},
   "source": [
    "- import numpy library in you notebook.\n",
    "\n",
    "Hint: To import any library, write `import (library name) as (short name of library, for example, for numpy use np`\n",
    "\n",
    "To import numpy, write `import numpy as np` in a cell and run\n"
   ]
  },
  {
   "cell_type": "markdown",
   "metadata": {},
   "source": [
    "## Problem 2"
   ]
  },
  {
   "cell_type": "markdown",
   "metadata": {},
   "source": [
    "- Declare a numpy array: `a = np.array([1, 2, 3, 4, 5])`\n",
    "\n",
    "- Print the type of the array. (Hint: use the `type` function)\n",
    "\n",
    "- Print the shape of the array (Hint: use the `shape` function)\n",
    "\n",
    "- Print each element of the array using a for loop and not using a for loop (accessing the element directly using its index)\n",
    "\n",
    "- Insert a 6th element 10 in the array. Print the result array.\n",
    "\n",
    "- Change the value of the 5th element from 5 to 8. Print the result array"
   ]
  },
  {
   "cell_type": "markdown",
   "metadata": {},
   "source": [
    "## Problem 3"
   ]
  },
  {
   "cell_type": "markdown",
   "metadata": {},
   "source": [
    "- Declare an array `b` that contains values `1000 to 1010` (Hint: use `np.arange` function). \n",
    "- Print the array and its shape.\n",
    "- Declare an array `c` of 5 x 2 size with ten ones (1) only. (Hint: use `np.ones` function). Print the array and its shape.\n",
    "- Declare an array `c` of 5 x 2 with all zeros only. (Hint: use `np.zeros` function). Print the array and its shape."
   ]
  },
  {
   "cell_type": "markdown",
   "metadata": {},
   "source": [
    "## Problem 4"
   ]
  },
  {
   "cell_type": "markdown",
   "metadata": {},
   "source": [
    "- Declare a 2-D numpy array: `a = np.array([[1,2,3,4], [5,6,7,8], [9,10,11,12]])`. Print it. \n",
    "\n",
    "- Create a new array with first 2 rows only. (Hint: `a` is an array with 3 rows and 4 columns, so its size is 3 by 4)\n",
    "\n",
    "- See what you get by running `a[:2, :2]`. Print it. \n",
    "\n",
    "- Now modify this to print only the middle two elements in the 3 rows. Print the result.\n",
    "\n",
    "- Add 10 to each element of the array. Print the result array.\n",
    "\n",
    "- Check the datatype of array a. (Hint: use `dtype` function). Print it.\n"
   ]
  },
  {
   "cell_type": "markdown",
   "metadata": {},
   "source": [
    "## Problem 5"
   ]
  },
  {
   "cell_type": "markdown",
   "metadata": {},
   "source": [
    "Consider the following two arrays  \n",
    "\n",
    "`x = np.array([[1,2],[3,4]], dtype=np.float64)`\n",
    "\n",
    "`y = np.array([[5,6],[7,8]], dtype=np.float64)`"
   ]
  },
  {
   "cell_type": "markdown",
   "metadata": {},
   "source": [
    "- Add x and y `(x+y)`. Print the result.\n",
    "- Subtract y from x `(x-y)`. Print the result.\n",
    "- Multiply x and y `(x*y)`. Print the result.  (Note: this is element-wise product)\n",
    "- Divide x by y `(x/y)`. Print the result.\n",
    "- Exponentiate x to the power of 3. Print the result.\n",
    "- Perform square root of y. Print the result.\n",
    "- Perform dot product (vector product) between x and y. Print the result.\n"
   ]
  },
  {
   "cell_type": "markdown",
   "metadata": {},
   "source": [
    "## Problem 6"
   ]
  },
  {
   "cell_type": "markdown",
   "metadata": {},
   "source": [
    "Consider the foloowing array \n",
    "\n",
    "`x = np.array([[1, 2, 3],[4, 5, 6]], dtype=np.float64)`\n"
   ]
  },
  {
   "cell_type": "markdown",
   "metadata": {},
   "source": [
    "- Print the shape, size and number of dimensions of x (Hint: use `shape`, `size`, `ndim` function)\n",
    "\n",
    "- Change the shape of the array to 1 row only. Print this new array `new_x` (Hint: Use `reshape` function)\n",
    "\n",
    "- Print the shape, size and number of dimensions of new_x \n",
    "\n",
    "- Transpose both `x` and `new_x`. Print the result.\n",
    "\n",
    "- Check the shape, size and number of dimensions of x and new_x before and after transposing.\n"
   ]
  },
  {
   "cell_type": "markdown",
   "metadata": {},
   "source": [
    "# Reading and Writing files\n",
    "## Problem 7"
   ]
  },
  {
   "cell_type": "markdown",
   "metadata": {},
   "source": [
    "- Download the climbing down dataset from: https://sensor.informatik.uni-mannheim.de/#dataset_realworld_subject1\n",
    "- Put the data in the same folder as your notebook. (Hint from lecture: use `open` function)\n",
    "- Read the acc_climbingdown_chest.csv file. (Hint from lecture: use `readlines` function)"
   ]
  },
  {
   "cell_type": "markdown",
   "metadata": {},
   "source": [
    "## Problem 8"
   ]
  },
  {
   "cell_type": "markdown",
   "metadata": {},
   "source": [
    "- Print the first 10 lines of the file.\n",
    "- Notice there are `\\n` in each line, which is used to denote new line. Remove the \\n from all lines. \n",
    "- Print the first 10 lines of the file.\n",
    "- Find how many lines are in the file (what is the length of val?) (Hint: use `len` function)\n",
    "- In each lines there are 5 elements. First element denote line number, second element is the time when the value is recorded. The next three are x , y, z co-ordinate value of accelerometer.\n",
    " \n",
    " Remove the first two elements in all lines. Print the result (it should contain all lines but 3 elements in each line instead of 5)"
   ]
  },
  {
   "cell_type": "markdown",
   "metadata": {},
   "source": [
    "# Scikit-learn"
   ]
  },
  {
   "cell_type": "markdown",
   "metadata": {},
   "source": [
    "Scikit-learn is a python library with popular machine learning algorithms available as built-in functions for quick use.\n",
    "\n",
    "In this exercise you will use k-means algorithm discussed in lecture to cluster a dataset."
   ]
  },
  {
   "cell_type": "markdown",
   "metadata": {},
   "source": [
    "## Problem 9"
   ]
  },
  {
   "cell_type": "code",
   "execution_count": 1,
   "metadata": {},
   "outputs": [],
   "source": [
    "import matplotlib.pyplot as plt   ## This is another library for plotting and visualization\n",
    "import sklearn                    ## import scikit-learn  "
   ]
  },
  {
   "cell_type": "markdown",
   "metadata": {},
   "source": [
    "- Run `from sklearn.cluster import KMeans`. This will import KMeans algorithm.\n",
    "- Run `from sklearn import datasets` . sklearn has some datasets inside the library, we will use iris dataset.\n",
    "- Run `iris = datasets.load_iris`. This will load iris dataset.\n",
    "- Print iris data and its shape\n",
    "- Run `X = iris.data`  and `y = iris.data`. Check the shape of X and y."
   ]
  },
  {
   "cell_type": "markdown",
   "metadata": {},
   "source": [
    "## Problem 10"
   ]
  },
  {
   "cell_type": "markdown",
   "metadata": {},
   "source": [
    "- Plot the clusteirng data using the code on the first slide of week 2 lecture 3.\n",
    "- How many groups do you observe? Change the number of cluster to vary the clustering result.\n",
    "- Plot the results with various number of clusters (e.g. 2, 3, 4, etc.)"
   ]
  },
  {
   "cell_type": "markdown",
   "metadata": {},
   "source": [
    "## To know more about numpy operations, check here: https://cs231n.github.io/python-numpy-tutorial/\n",
    "\n"
   ]
  }
 ],
 "metadata": {
  "kernelspec": {
   "display_name": "Python 3",
   "language": "python",
   "name": "python3"
  },
  "language_info": {
   "codemirror_mode": {
    "name": "ipython",
    "version": 3
   },
   "file_extension": ".py",
   "mimetype": "text/x-python",
   "name": "python",
   "nbconvert_exporter": "python",
   "pygments_lexer": "ipython3",
   "version": "3.7.2"
  }
 },
 "nbformat": 4,
 "nbformat_minor": 2
}
