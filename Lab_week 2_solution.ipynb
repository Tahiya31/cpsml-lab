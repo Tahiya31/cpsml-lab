{
 "cells": [
  {
   "cell_type": "markdown",
   "metadata": {},
   "source": [
    "# Instructions"
   ]
  },
  {
   "cell_type": "markdown",
   "metadata": {},
   "source": [
    "Lab 2 consists of 10 questions.\n",
    "\n",
    "● In session 1, you will work on the first 5 problems, and in session 2, you will work on the last 5 problems. \n",
    "\n",
    "● Once completed, you will submit all 10 exercises as jupyter notebooks (as a single .ipynb file) through e-mail at 'tahiya.chowdhury@rutgers.edu' for grading.\n",
    "\n",
    "● In the e-mail, use subject line: `CPSML: Week 2 _ your full name`\n",
    "\n",
    "● Both the jupyter notebook and e-mail should contain your name in English."
   ]
  },
  {
   "cell_type": "markdown",
   "metadata": {},
   "source": [
    "# Numpy"
   ]
  },
  {
   "cell_type": "markdown",
   "metadata": {},
   "source": [
    "In this lab you will start with a python library called Numpy, used for data science and machine learning projects.\n",
    "\n",
    "Numpy introduces objects for multidimensional arrays and matrices.\n",
    "It allows functions to easily perform advanced mathematical and statistical operations.\n",
    "\n",
    "To learn more about numpy, check here: https://numpy.org/doc/stable/user/basics.html\n"
   ]
  },
  {
   "cell_type": "markdown",
   "metadata": {},
   "source": [
    "## Problem 1"
   ]
  },
  {
   "cell_type": "markdown",
   "metadata": {},
   "source": [
    "- import numpy library in you notebook.\n",
    "\n",
    "Hint: To import any library, write `import (library name) as (short name of library, for example, for numpy use np`\n",
    "\n",
    "To import numpy, write `import numpy as np` in a cell and run\n"
   ]
  },
  {
   "cell_type": "code",
   "execution_count": 1,
   "metadata": {},
   "outputs": [],
   "source": [
    "import numpy as np      ## importing numpy library as np"
   ]
  },
  {
   "cell_type": "markdown",
   "metadata": {},
   "source": [
    "## Problem 2"
   ]
  },
  {
   "cell_type": "markdown",
   "metadata": {},
   "source": [
    "- Declare a numpy array: `a = np.array([1, 2, 3, 4, 5])`\n",
    "\n",
    "- Print the type of the array. (Hint: use the `type` function)\n",
    "\n",
    "- Print the shape of the array (Hint: use the `shape` function)\n",
    "\n",
    "- Print each element of the array using a for loop and not using a for loop (accessing the element directly using its index)\n",
    "\n",
    "- Insert a 6th element 10 in the array. Print the result array.\n",
    "\n",
    "- Change the value of the 5th element from 5 to 8. Print the result array"
   ]
  },
  {
   "cell_type": "code",
   "execution_count": 2,
   "metadata": {},
   "outputs": [
    {
     "name": "stdout",
     "output_type": "stream",
     "text": [
      "The array a: [1 2 3 4 5]\n",
      "The datatype of the elements in array a: int64\n",
      "The shape of array a: (5,)\n",
      "The number of dimensions of array a: 1\n",
      "<class 'numpy.ndarray'>\n"
     ]
    }
   ],
   "source": [
    "a = np.array([1, 2, 3, 4, 5])       ## declaring a 1-d numpy array a\n",
    "print(\"The array a:\", a)            ## printing the array a\n",
    "print(\"The datatype of the elements in array a:\", a.dtype)  #the datatype of elements of the array\n",
    "print(\"The shape of array a:\", a.shape)                     # the shape of the array\n",
    "print(\"The number of dimensions of array a:\", a.ndim)       # the number of dimensions in a\n",
    "print(type(a))                       ## the type of a, which is a numpy.ndarrray of integers"
   ]
  },
  {
   "cell_type": "markdown",
   "metadata": {},
   "source": [
    "## Problem 3"
   ]
  },
  {
   "cell_type": "markdown",
   "metadata": {},
   "source": [
    "- Declare an array `b` that contains values `1000 to 1010` (Hint: use `np.arange` function). \n",
    "- Print the array and its shape.\n",
    "- Declare an array `c` of 5 x 2 size with ten ones (1) only. (Hint: use `np.ones` function). Print the array and its shape.\n",
    "- Declare an array `c` of 5 x 2 with all zeros only. (Hint: use `np.zeros` function). Print the array and its shape."
   ]
  },
  {
   "cell_type": "code",
   "execution_count": 3,
   "metadata": {},
   "outputs": [
    {
     "name": "stdout",
     "output_type": "stream",
     "text": [
      "The array b is: [1000 1001 1002 1003 1004 1005 1006 1007 1008 1009]\n",
      "The shape of b is: (10,)\n"
     ]
    }
   ],
   "source": [
    "b = np.arange(1000, 1010)             ## declare b\n",
    "print(\"The array b is:\", b)\n",
    "print(\"The shape of b is:\", b.shape)  ## printing shape of b, which contains 10 elements"
   ]
  },
  {
   "cell_type": "markdown",
   "metadata": {},
   "source": [
    "* We have worked with 1-D array only so far (number of dimension = 1)\n",
    "* In machine learning, we work with 2-D, 3-D arrays and arrays with higher number of dimensions."
   ]
  },
  {
   "cell_type": "code",
   "execution_count": 4,
   "metadata": {},
   "outputs": [
    {
     "name": "stdout",
     "output_type": "stream",
     "text": [
      "The array c is:\n",
      " [[1. 1.]\n",
      " [1. 1.]\n",
      " [1. 1.]\n",
      " [1. 1.]\n",
      " [1. 1.]]\n",
      "The shape of c is: (5, 2)\n",
      "The number of rows in c: 5\n",
      "The number of rows in c: 2\n"
     ]
    }
   ],
   "source": [
    "c = np.ones((5, 2))                     ## declare c, whose shape is (5,2), meaning 5 rows, 2 columns\n",
    "print(\"The array c is:\\n\", c)\n",
    "print(\"The shape of c is:\", c.shape)    ## printing shape of c, which contains (5 x 2) = 10 elements\n",
    "print(\"The number of rows in c:\", c.shape[0])  ## printing shape of b, which contains 10 elements\n",
    "print(\"The number of rows in c:\", c.shape[1]) "
   ]
  },
  {
   "cell_type": "code",
   "execution_count": 5,
   "metadata": {},
   "outputs": [
    {
     "name": "stdout",
     "output_type": "stream",
     "text": [
      "The array c is:\n",
      " [[0. 0.]\n",
      " [0. 0.]\n",
      " [0. 0.]\n",
      " [0. 0.]\n",
      " [0. 0.]]\n",
      "The shape of c is: (5, 2)\n",
      "The number of rows in c: 5\n",
      "The number of rows in c: 2\n"
     ]
    }
   ],
   "source": [
    "c = np.zeros((5, 2))                     ## declare c, whose shape is (5,2), meaning 5 rows, 2 columns\n",
    "print(\"The array c is:\\n\", c)\n",
    "print(\"The shape of c is:\", c.shape)    ## printing shape of c, which contains (5 x 2) = 10 elements\n",
    "print(\"The number of rows in c:\", c.shape[0])  ## printing shape of b, which contains 10 elements\n",
    "print(\"The number of rows in c:\", c.shape[1]) "
   ]
  },
  {
   "cell_type": "markdown",
   "metadata": {},
   "source": [
    "####  You can declare arrays with many dimensions using `np.zeros`, `np.ones` and other built-in functions and specify the values of the elements. Play around with the parameters inside the functions to see how the dimensions of `c` can be changed."
   ]
  },
  {
   "cell_type": "markdown",
   "metadata": {},
   "source": [
    "## Problem 4"
   ]
  },
  {
   "cell_type": "markdown",
   "metadata": {},
   "source": [
    "- Declare a 2-D numpy array: `a = np.array([[1,2,3,4], [5,6,7,8], [9,10,11,12]])`. Print it. \n",
    "\n",
    "- Create a new array with first 2 rows only. (Hint: `a` is an array with 3 rows and 4 columns, so its size is 3 by 4)\n",
    "\n",
    "- See what you get by running `a[:2, :2]`. Print it. \n",
    "\n",
    "- Now modify this to print only the middle two elements in the 3 rows. Print the result.\n",
    "\n",
    "- Add 10.0 to each element of the array. Print the result array.\n",
    "\n",
    "- Check the datatype of array a. (Hint: use `dtype` function). Print it.\n"
   ]
  },
  {
   "cell_type": "code",
   "execution_count": 6,
   "metadata": {},
   "outputs": [
    {
     "name": "stdout",
     "output_type": "stream",
     "text": [
      "The array a is:\n",
      " [[ 1  2  3  4]\n",
      " [ 5  6  7  8]\n",
      " [ 9 10 11 12]]\n",
      "The shape of array a is: (3, 4)\n",
      "The number of rows in array a: 3\n",
      "The number of columns in array a: 4\n"
     ]
    }
   ],
   "source": [
    "a = np.array([[1,2,3,4], [5,6,7,8], [9,10,11,12]])  ## declaring a 2-D array of 3 rows and 4 columns\n",
    "print(\"The array a is:\\n\", a)                       \n",
    "print(\"The shape of array a is:\", a.shape)\n",
    "print(\"The number of rows in array a:\", a.shape[0])\n",
    "print(\"The number of columns in array a:\", a.shape[1])"
   ]
  },
  {
   "cell_type": "code",
   "execution_count": 7,
   "metadata": {},
   "outputs": [
    {
     "name": "stdout",
     "output_type": "stream",
     "text": [
      "The new array is:\n",
      " [[1 2 3 4]\n",
      " [5 6 7 8]]\n",
      "The shape of new array is: (2, 4)\n",
      "The number of rows in new array is: 2\n",
      "The number of columns in new array is: 4\n"
     ]
    }
   ],
   "source": [
    "new_a = a[:2, :]      ## creating new array with first 2 rows only\n",
    "print(\"The new array is:\\n\", new_a)\n",
    "print(\"The shape of new array is:\", new_a.shape)\n",
    "print(\"The number of rows in new array is:\", new_a.shape[0])\n",
    "print(\"The number of columns in new array is:\", new_a.shape[1])"
   ]
  },
  {
   "cell_type": "code",
   "execution_count": 8,
   "metadata": {},
   "outputs": [
    {
     "name": "stdout",
     "output_type": "stream",
     "text": [
      "[[1 2]\n",
      " [5 6]]\n"
     ]
    }
   ],
   "source": [
    "a_1 = a[:2, :2]   ## this will create a new array a_1 with the first two elements of the first two rows\n",
    "print(a_1)"
   ]
  },
  {
   "cell_type": "code",
   "execution_count": 9,
   "metadata": {},
   "outputs": [
    {
     "name": "stdout",
     "output_type": "stream",
     "text": [
      "Here is the modified array:\n",
      " [[ 2  3]\n",
      " [ 6  7]\n",
      " [10 11]]\n"
     ]
    }
   ],
   "source": [
    "modified_a = a[:, 1:3]     ## [:, 1:3] ==> this command is used to defined shape. \n",
    "                           ## using `:` in first dimension we selected all 3 rows\n",
    "                           ## using `1:3` in second dimension, we selected only 2nd and 3rd rows\n",
    "print(\"Here is the modified array:\\n\", modified_a)"
   ]
  },
  {
   "cell_type": "code",
   "execution_count": 10,
   "metadata": {},
   "outputs": [
    {
     "name": "stdout",
     "output_type": "stream",
     "text": [
      "After adding 10 to a, a becomes:\n",
      " [[11 12 13 14]\n",
      " [15 16 17 18]\n",
      " [19 20 21 22]]\n",
      "The datatype of a_added10 is int64\n"
     ]
    }
   ],
   "source": [
    "a_added10 = np.add(a, 10)    ## np.add takes the values to be added as parameters (here `a` and `10`)\n",
    "print(\"After adding 10 to a, a becomes:\\n\", a_added10)\n",
    "print(\"The datatype of a_added10 is\", a_added10.dtype)"
   ]
  },
  {
   "cell_type": "code",
   "execution_count": 11,
   "metadata": {},
   "outputs": [
    {
     "name": "stdout",
     "output_type": "stream",
     "text": [
      "After adding 10.0 to a, a becomes:\n",
      " [[11. 12. 13. 14.]\n",
      " [15. 16. 17. 18.]\n",
      " [19. 20. 21. 22.]]\n",
      "The datatype of a_added10 is float64\n"
     ]
    }
   ],
   "source": [
    "a_added10 = np.add(a, 10.0)    ## np.add takes the values to be added as parameters (here `a` and `10.0`)\n",
    "print(\"After adding 10.0 to a, a becomes:\\n\", a_added10)\n",
    "print(\"The datatype of a_added10 is\", a_added10.dtype)     ## notice how we added float values to a, hence the result array becomes a float as well"
   ]
  },
  {
   "cell_type": "markdown",
   "metadata": {},
   "source": [
    "## Problem 5"
   ]
  },
  {
   "cell_type": "markdown",
   "metadata": {},
   "source": [
    "Consider the following two arrays  \n",
    "\n",
    "`x = np.array([[1,2],[3,4]], dtype=np.float64)`\n",
    "\n",
    "`y = np.array([[5,6],[7,8]], dtype=np.float64)`"
   ]
  },
  {
   "cell_type": "markdown",
   "metadata": {},
   "source": [
    "- Add x and y `(x+y)`. Print the result.\n",
    "- Subtract y from x `(x-y)`. Print the result.\n",
    "- Multiply x and y `(x*y)`. Print the result.  (Note: this is element-wise product)\n",
    "- Divide x by y `(x/y)`. Print the result.\n",
    "- Exponentiate x to the power of 3. Print the result.\n",
    "- Perform square root of y. Print the result.\n",
    "- Perform dot product (vector product) between x and y. Print the result.\n"
   ]
  },
  {
   "cell_type": "code",
   "execution_count": 12,
   "metadata": {},
   "outputs": [
    {
     "name": "stdout",
     "output_type": "stream",
     "text": [
      "Array x:\n",
      " [[1. 2.]\n",
      " [3. 4.]]\n",
      "Array y:\n",
      " [[5. 6.]\n",
      " [7. 8.]]\n"
     ]
    }
   ],
   "source": [
    "x = np.array([[1,2],[3,4]], dtype=np.float64)\n",
    "y = np.array([[5,6],[7,8]], dtype=np.float64)\n",
    "print(\"Array x:\\n\", x)\n",
    "print(\"Array y:\\n\", y)"
   ]
  },
  {
   "cell_type": "code",
   "execution_count": 13,
   "metadata": {},
   "outputs": [
    {
     "name": "stdout",
     "output_type": "stream",
     "text": [
      "Addition result (x+y) :\n",
      " [[ 6.  8.]\n",
      " [10. 12.]]\n"
     ]
    }
   ],
   "source": [
    "xy_added = np.add(x, y)        ## adding x and y\n",
    "print(\"Addition result (x+y) :\\n\", xy_added)"
   ]
  },
  {
   "cell_type": "code",
   "execution_count": 14,
   "metadata": {},
   "outputs": [
    {
     "name": "stdout",
     "output_type": "stream",
     "text": [
      "Subtraction result (x-y) :\n",
      " [[-4. -4.]\n",
      " [-4. -4.]]\n"
     ]
    }
   ],
   "source": [
    "xy_subtracted = np.subtract(x, y)        ## subtracting y from x\n",
    "#xy_subtracted = np.subtract(y, x)       ## for y-x\n",
    "print(\"Subtraction result (x-y) :\\n\", xy_subtracted)"
   ]
  },
  {
   "cell_type": "code",
   "execution_count": 15,
   "metadata": {},
   "outputs": [
    {
     "name": "stdout",
     "output_type": "stream",
     "text": [
      "Mutiplication result (x*y) :\n",
      " [[ 5. 12.]\n",
      " [21. 32.]]\n"
     ]
    }
   ],
   "source": [
    "xy_multiplied = np.multiply(x, y)        ## element-wise multiplying x and y\n",
    "print(\"Mutiplication result (x*y) :\\n\", xy_multiplied)"
   ]
  },
  {
   "cell_type": "code",
   "execution_count": 16,
   "metadata": {},
   "outputs": [
    {
     "name": "stdout",
     "output_type": "stream",
     "text": [
      "Division result (x/y) :\n",
      " [[0.2        0.33333333]\n",
      " [0.42857143 0.5       ]]\n"
     ]
    }
   ],
   "source": [
    "xy_divided = np.divide(x, y)        ## dividing x byy\n",
    "#xy_divided = np.subtract(y, x)\n",
    "print(\"Division result (x/y) :\\n\", xy_divided)"
   ]
  },
  {
   "cell_type": "code",
   "execution_count": 17,
   "metadata": {},
   "outputs": [
    {
     "name": "stdout",
     "output_type": "stream",
     "text": [
      "x to power of 3 is:\n",
      " [[ 1.  8.]\n",
      " [27. 64.]]\n"
     ]
    }
   ],
   "source": [
    "x_cubed = np.power(x, 3)            \n",
    "print(\"x to power of 3 is:\\n\", x_cubed)"
   ]
  },
  {
   "cell_type": "code",
   "execution_count": 18,
   "metadata": {},
   "outputs": [
    {
     "name": "stdout",
     "output_type": "stream",
     "text": [
      "The square-root of new_y is:\n",
      " [[2.         3.         4.        ]\n",
      " [1.41421356 2.82842712 4.89897949]]\n"
     ]
    }
   ],
   "source": [
    "new_y = np.array([[4, 9, 16], [2, 8, 24]])\n",
    "y_sqrt= np.sqrt(new_y)     \n",
    "print(\"The square-root of new_y is:\\n\", y_sqrt)"
   ]
  },
  {
   "cell_type": "code",
   "execution_count": 19,
   "metadata": {},
   "outputs": [
    {
     "name": "stdout",
     "output_type": "stream",
     "text": [
      "The square-root of y is:\n",
      " [[2.23606798 2.44948974]\n",
      " [2.64575131 2.82842712]]\n"
     ]
    }
   ],
   "source": [
    "y_sqrt= np.sqrt(y)           ## squared root of y\n",
    "print(\"The square-root of y is:\\n\", y_sqrt)"
   ]
  },
  {
   "cell_type": "code",
   "execution_count": 20,
   "metadata": {},
   "outputs": [
    {
     "name": "stdout",
     "output_type": "stream",
     "text": [
      "Dot product between x and y is:\n",
      " [[19. 22.]\n",
      " [43. 50.]]\n"
     ]
    }
   ],
   "source": [
    "xy_dot = np.dot(x, y)         ## dot product between x and y \n",
    "print(\"Dot product between x and y is:\\n\", xy_dot)"
   ]
  },
  {
   "cell_type": "markdown",
   "metadata": {},
   "source": [
    "## Problem 6"
   ]
  },
  {
   "cell_type": "markdown",
   "metadata": {},
   "source": [
    "Consider the foloowing array \n",
    "\n",
    "`x = np.array([[1, 2, 3],[4, 5, 6]], dtype=np.float64)`\n"
   ]
  },
  {
   "cell_type": "markdown",
   "metadata": {},
   "source": [
    "- Print the shape, size and number of dimensions of x (Hint: use `shape`, `size`, `ndim` function)\n",
    "\n",
    "- Change the shape of the array to 1 row only. Print this new array `new_x` (Hint: Use `reshape` function)\n",
    "\n",
    "- Print the shape, size and number of dimensions of new_x \n",
    "\n",
    "- Transpose both `x` and `new_x`. Print the result.\n",
    "\n",
    "- Check the shape, size and number of dimensions of x and new_x before and after transposing.\n"
   ]
  },
  {
   "cell_type": "code",
   "execution_count": 21,
   "metadata": {},
   "outputs": [
    {
     "name": "stdout",
     "output_type": "stream",
     "text": [
      "The array x:\n",
      " [[1. 2. 3.]\n",
      " [4. 5. 6.]]\n",
      "The shape of x: (2, 3)\n",
      "The size of x: 6\n",
      "The number of dimension of x: 2\n"
     ]
    }
   ],
   "source": [
    "x = np.array([[1, 2, 3],[4, 5, 6]], dtype=np.float64)    ## x is an array with 2 rows and 3 columns \n",
    "print(\"The array x:\\n\", x)\n",
    "print(\"The shape of x:\", x.shape)\n",
    "print(\"The size of x:\", np.size(x))\n",
    "print(\"The number of dimension of x:\", x.ndim)"
   ]
  },
  {
   "cell_type": "code",
   "execution_count": 22,
   "metadata": {},
   "outputs": [
    {
     "name": "stdout",
     "output_type": "stream",
     "text": [
      "The reshaped array x is:\n",
      " [[1.]\n",
      " [2.]\n",
      " [3.]\n",
      " [4.]\n",
      " [5.]\n",
      " [6.]]\n",
      "The shape of x: (6, 1)\n",
      "The size of x: 6\n",
      "The number of dimension of x: 2\n"
     ]
    }
   ],
   "source": [
    "reshaped_x = np.reshape(x, (6, 1))\n",
    "print(\"The reshaped array x is:\\n\", reshaped_x)\n",
    "print(\"The shape of x:\", reshaped_x.shape)                ## the dimnensions has changed\n",
    "print(\"The size of x:\", np.size(reshaped_x))              ## size remains the same\n",
    "print(\"The number of dimension of x:\", reshaped_x.ndim)   ## number of dimension remains the same"
   ]
  },
  {
   "cell_type": "code",
   "execution_count": 23,
   "metadata": {},
   "outputs": [
    {
     "name": "stdout",
     "output_type": "stream",
     "text": [
      "The transposed array x is:\n",
      " [[1. 4.]\n",
      " [2. 5.]\n",
      " [3. 6.]]\n",
      "The shape of x_transposed: (3, 2)\n",
      "The size of x_transposed: 6\n",
      "The number of dimension of x_transposed: 2\n",
      "\n",
      "\n",
      "The transposed array x is:\n",
      " [[1. 2. 3. 4. 5. 6.]]\n",
      "The shape of x_transposed: (1, 6)\n",
      "The size of x_transposed: 6\n",
      "The number of dimension of x_transposed: 2\n"
     ]
    }
   ],
   "source": [
    "x_transposed = x.T\n",
    "reshaped_x_transposed = reshaped_x.T\n",
    "\n",
    "print(\"The transposed array x is:\\n\", x_transposed)\n",
    "print(\"The shape of x_transposed:\", x_transposed.shape)                ## the dimnensions has changed\n",
    "print(\"The size of x_transposed:\", np.size(x_transposed))              ## size remains the same\n",
    "print(\"The number of dimension of x_transposed:\", x_transposed.ndim)   ## number of dimension remains the same\n",
    "print(\"\\n\")\n",
    "print(\"The transposed array x is:\\n\", reshaped_x_transposed)\n",
    "print(\"The shape of x_transposed:\", reshaped_x_transposed.shape)                ## the dimnensions has changed\n",
    "print(\"The size of x_transposed:\", np.size(reshaped_x_transposed))              ## size remains the same\n",
    "print(\"The number of dimension of x_transposed:\", reshaped_x_transposed.ndim)   ## number of dimension remains the same"
   ]
  },
  {
   "cell_type": "markdown",
   "metadata": {},
   "source": [
    "#### Compare the output with original arrays to understand the operation"
   ]
  },
  {
   "cell_type": "markdown",
   "metadata": {},
   "source": [
    "# Reading and Writing files\n",
    "## Problem 7"
   ]
  },
  {
   "cell_type": "markdown",
   "metadata": {},
   "source": [
    "- Download the climbing down dataset from: https://sensor.informatik.uni-mannheim.de/#dataset_realworld_subject1\n",
    "- Put the data in the same folder as your notebook. (Hint from lecture: use `open` function)\n",
    "- Read the acc_climbingdown_chest.csv file. (Hint from lecture: use `readlines` function)"
   ]
  },
  {
   "cell_type": "markdown",
   "metadata": {},
   "source": [
    "#### You can download the file by going to the website directly"
   ]
  },
  {
   "cell_type": "code",
   "execution_count": 24,
   "metadata": {},
   "outputs": [
    {
     "name": "stdout",
     "output_type": "stream",
     "text": [
      "The number of lines in this file: 25436\n"
     ]
    }
   ],
   "source": [
    "file_path = './CPSML_DATA/acc_climbingdown_chest.csv'  ## you can get the path of any file by right-clicking on it\n",
    "file_name = open(file_path)      \n",
    "lines = file_name.readlines()\n",
    "#print(lines)   \n",
    "print(\"The number of lines in this file:\", len(lines))              ## number of lines in the file"
   ]
  },
  {
   "cell_type": "markdown",
   "metadata": {},
   "source": [
    "## Problem 8"
   ]
  },
  {
   "cell_type": "markdown",
   "metadata": {},
   "source": [
    "- Print the first 10 lines of the file.\n",
    "- Notice there are `\\n` in each line, which is used to denote new line. Remove the \\n from all lines. \n",
    "- Print the first 10 lines of the file.\n",
    "- Find how many lines are in the file (what is the length of val?) (Hint: use `len` function)\n",
    "- In each lines there are 5 elements. First element denote line number, second element is the time when the value is recorded. The next three are x , y, z co-ordinate value of accelerometer.\n",
    " \n",
    " Remove the first two elements in all lines. Print the result (it should contain all lines but 3 elements in each line instead of 5)"
   ]
  },
  {
   "cell_type": "code",
   "execution_count": 25,
   "metadata": {},
   "outputs": [
    {
     "name": "stdout",
     "output_type": "stream",
     "text": [
      "The first 10 lines are: ['id,attr_time,attr_x,attr_y,attr_z\\n', '1,1435996968010,5.616797,8.06427,0.87807345\\n', '2,1435996968032,5.589264,8.054693,0.8690952\\n', '3,1435996968052,5.580884,8.06008,0.908001\\n', '4,1435996968073,5.5880666,8.033744,0.8846575\\n', '5,1435996968093,5.583877,8.0606785,0.87567925\\n', '6,1435996968113,5.5964465,8.04751,0.85891986\\n', '7,1435996968131,5.609016,8.051102,0.86251116\\n', '8,1435996968150,5.6006365,8.058883,0.86969376\\n', '9,1435996968170,5.589264,8.024167,0.8912416\\n']\n"
     ]
    }
   ],
   "source": [
    "print(\"The first 10 lines are:\", lines[:10])              ## printing first 10 lines of the file\"\""
   ]
  },
  {
   "cell_type": "code",
   "execution_count": 26,
   "metadata": {},
   "outputs": [
    {
     "name": "stdout",
     "output_type": "stream",
     "text": [
      "The headers are:  id,attr_time,attr_x,attr_y,attr_z\n",
      "\n"
     ]
    }
   ],
   "source": [
    "array_lines = np.asarray(lines)               ## to allow us to use numpy functions, we can convert a list to a numpy array\n",
    "print(\"The headers are: \", array_lines[0])    ## the column headers    "
   ]
  },
  {
   "cell_type": "code",
   "execution_count": 27,
   "metadata": {},
   "outputs": [
    {
     "name": "stdout",
     "output_type": "stream",
     "text": [
      "Firts 10 lines: ['id,attr_time,attr_x,attr_y,attr_z', '1,1435996968010,5.616797,8.06427,0.87807345', '2,1435996968032,5.589264,8.054693,0.8690952', '3,1435996968052,5.580884,8.06008,0.908001', '4,1435996968073,5.5880666,8.033744,0.8846575', '5,1435996968093,5.583877,8.0606785,0.87567925', '6,1435996968113,5.5964465,8.04751,0.85891986', '7,1435996968131,5.609016,8.051102,0.86251116', '8,1435996968150,5.6006365,8.058883,0.86969376', '9,1435996968170,5.589264,8.024167,0.8912416']\n"
     ]
    }
   ],
   "source": [
    "array_lines = [v.strip() for v in array_lines]    ## using strip function to remove \\n or spaces\n",
    "print(\"Firts 10 lines:\", array_lines[:10])"
   ]
  },
  {
   "cell_type": "code",
   "execution_count": 28,
   "metadata": {},
   "outputs": [
    {
     "name": "stdout",
     "output_type": "stream",
     "text": [
      "Firts 10 lines: [['id' 'attr_time' 'attr_x' 'attr_y' 'attr_z']\n",
      " ['1' '1435996968010' '5.616797' '8.06427' '0.87807345']\n",
      " ['2' '1435996968032' '5.589264' '8.054693' '0.8690952']\n",
      " ['3' '1435996968052' '5.580884' '8.06008' '0.908001']\n",
      " ['4' '1435996968073' '5.5880666' '8.033744' '0.8846575']\n",
      " ['5' '1435996968093' '5.583877' '8.0606785' '0.87567925']\n",
      " ['6' '1435996968113' '5.5964465' '8.04751' '0.85891986']\n",
      " ['7' '1435996968131' '5.609016' '8.051102' '0.86251116']\n",
      " ['8' '1435996968150' '5.6006365' '8.058883' '0.86969376']\n",
      " ['9' '1435996968170' '5.589264' '8.024167' '0.8912416']]\n"
     ]
    }
   ],
   "source": [
    "new_array=[]                                                ## creating an empty list\n",
    "for p in array_lines:      \n",
    "    array_element = [new_val for new_val in p.split(\",\")]   #for each line p, splitting each value that is seperated by ',' and putting them as a list\n",
    "    new_array.append(array_element)                         # appending each list created from each list in the empty list\n",
    "\n",
    "new_array = np.asarray(new_array)\n",
    "print(\"Firts 10 lines:\", new_array[:10])"
   ]
  },
  {
   "cell_type": "markdown",
   "metadata": {},
   "source": [
    "#### In our analysis we will not need need the first line (column names). \n",
    "#### We will also not need the first and second columns, which are the observation number an dtime respectively."
   ]
  },
  {
   "cell_type": "code",
   "execution_count": 29,
   "metadata": {},
   "outputs": [
    {
     "name": "stdout",
     "output_type": "stream",
     "text": [
      "After removing column names:\n",
      " [['1' '1435996968010' '5.616797' '8.06427' '0.87807345']\n",
      " ['2' '1435996968032' '5.589264' '8.054693' '0.8690952']\n",
      " ['3' '1435996968052' '5.580884' '8.06008' '0.908001']\n",
      " ...\n",
      " ['25433' '1435997477141' '9.283517' '1.8267759' '2.8089972']\n",
      " ['25434' '1435997477161' '9.279925' '1.8154035' '2.818574']\n",
      " ['25435' '1435997477182' '9.272743' '1.8183962' '2.822764']]\n"
     ]
    }
   ],
   "source": [
    "array_values = new_array[1:]\n",
    "print(\"After removing column names:\\n\", array_values)            ## removed the column names"
   ]
  },
  {
   "cell_type": "code",
   "execution_count": 30,
   "metadata": {},
   "outputs": [
    {
     "name": "stdout",
     "output_type": "stream",
     "text": [
      "After removing column 1 (observation no.) and column 2 (time): [['5.616797' '8.06427' '0.87807345']\n",
      " ['5.589264' '8.054693' '0.8690952']\n",
      " ['5.580884' '8.06008' '0.908001']\n",
      " ...\n",
      " ['9.283517' '1.8267759' '2.8089972']\n",
      " ['9.279925' '1.8154035' '2.818574']\n",
      " ['9.272743' '1.8183962' '2.822764']]\n",
      "Shape of array_obs: (25435, 3)\n"
     ]
    }
   ],
   "source": [
    "array_obs = array_values[:, 2:]\n",
    "print(\"After removing column 1 (observation no.) and column 2 (time):\", array_obs) \n",
    "print(\"Shape of array_obs:\", array_obs.shape) "
   ]
  },
  {
   "cell_type": "markdown",
   "metadata": {},
   "source": [
    "# Scikit-learn"
   ]
  },
  {
   "cell_type": "markdown",
   "metadata": {},
   "source": [
    "Scikit-learn is a python library with popular machine learning algorithms available as built-in functions for quick use.\n",
    "\n",
    "In this exercise you will use k-means algorithm discussed in lecture to cluster a dataset."
   ]
  },
  {
   "cell_type": "markdown",
   "metadata": {},
   "source": [
    "## Problem 9"
   ]
  },
  {
   "cell_type": "code",
   "execution_count": 31,
   "metadata": {},
   "outputs": [],
   "source": [
    "import matplotlib.pyplot as plt   ## This is another library for plotting and visualization\n",
    "import sklearn                    ## import scikit-learn  "
   ]
  },
  {
   "cell_type": "markdown",
   "metadata": {},
   "source": [
    "- Run `from sklearn.cluster import KMeans`. This will import KMeans algorithm.\n",
    "- Run `from sklearn import datasets` . sklearn has some datasets inside the library, we will use iris dataset.\n",
    "- Run `iris = datasets.load_iris()`. This will load iris dataset.\n",
    "- Print iris data and its shape\n",
    "- Run `X = iris.data`  and `y = iris.target`. Check the shape of X and y."
   ]
  },
  {
   "cell_type": "code",
   "execution_count": 32,
   "metadata": {},
   "outputs": [],
   "source": [
    "from sklearn.cluster import KMeans       ## importing scikit-learn implementation of k-means\n",
    "from sklearn import datasets             ## importing scikit-learn available dataset "
   ]
  },
  {
   "cell_type": "code",
   "execution_count": 33,
   "metadata": {},
   "outputs": [
    {
     "name": "stdout",
     "output_type": "stream",
     "text": [
      "This is the data: [[5.1 3.5 1.4 0.2]\n",
      " [4.9 3.  1.4 0.2]\n",
      " [4.7 3.2 1.3 0.2]\n",
      " [4.6 3.1 1.5 0.2]\n",
      " [5.  3.6 1.4 0.2]\n",
      " [5.4 3.9 1.7 0.4]\n",
      " [4.6 3.4 1.4 0.3]\n",
      " [5.  3.4 1.5 0.2]\n",
      " [4.4 2.9 1.4 0.2]\n",
      " [4.9 3.1 1.5 0.1]\n",
      " [5.4 3.7 1.5 0.2]\n",
      " [4.8 3.4 1.6 0.2]\n",
      " [4.8 3.  1.4 0.1]\n",
      " [4.3 3.  1.1 0.1]\n",
      " [5.8 4.  1.2 0.2]\n",
      " [5.7 4.4 1.5 0.4]\n",
      " [5.4 3.9 1.3 0.4]\n",
      " [5.1 3.5 1.4 0.3]\n",
      " [5.7 3.8 1.7 0.3]\n",
      " [5.1 3.8 1.5 0.3]\n",
      " [5.4 3.4 1.7 0.2]\n",
      " [5.1 3.7 1.5 0.4]\n",
      " [4.6 3.6 1.  0.2]\n",
      " [5.1 3.3 1.7 0.5]\n",
      " [4.8 3.4 1.9 0.2]\n",
      " [5.  3.  1.6 0.2]\n",
      " [5.  3.4 1.6 0.4]\n",
      " [5.2 3.5 1.5 0.2]\n",
      " [5.2 3.4 1.4 0.2]\n",
      " [4.7 3.2 1.6 0.2]\n",
      " [4.8 3.1 1.6 0.2]\n",
      " [5.4 3.4 1.5 0.4]\n",
      " [5.2 4.1 1.5 0.1]\n",
      " [5.5 4.2 1.4 0.2]\n",
      " [4.9 3.1 1.5 0.2]\n",
      " [5.  3.2 1.2 0.2]\n",
      " [5.5 3.5 1.3 0.2]\n",
      " [4.9 3.6 1.4 0.1]\n",
      " [4.4 3.  1.3 0.2]\n",
      " [5.1 3.4 1.5 0.2]\n",
      " [5.  3.5 1.3 0.3]\n",
      " [4.5 2.3 1.3 0.3]\n",
      " [4.4 3.2 1.3 0.2]\n",
      " [5.  3.5 1.6 0.6]\n",
      " [5.1 3.8 1.9 0.4]\n",
      " [4.8 3.  1.4 0.3]\n",
      " [5.1 3.8 1.6 0.2]\n",
      " [4.6 3.2 1.4 0.2]\n",
      " [5.3 3.7 1.5 0.2]\n",
      " [5.  3.3 1.4 0.2]\n",
      " [7.  3.2 4.7 1.4]\n",
      " [6.4 3.2 4.5 1.5]\n",
      " [6.9 3.1 4.9 1.5]\n",
      " [5.5 2.3 4.  1.3]\n",
      " [6.5 2.8 4.6 1.5]\n",
      " [5.7 2.8 4.5 1.3]\n",
      " [6.3 3.3 4.7 1.6]\n",
      " [4.9 2.4 3.3 1. ]\n",
      " [6.6 2.9 4.6 1.3]\n",
      " [5.2 2.7 3.9 1.4]\n",
      " [5.  2.  3.5 1. ]\n",
      " [5.9 3.  4.2 1.5]\n",
      " [6.  2.2 4.  1. ]\n",
      " [6.1 2.9 4.7 1.4]\n",
      " [5.6 2.9 3.6 1.3]\n",
      " [6.7 3.1 4.4 1.4]\n",
      " [5.6 3.  4.5 1.5]\n",
      " [5.8 2.7 4.1 1. ]\n",
      " [6.2 2.2 4.5 1.5]\n",
      " [5.6 2.5 3.9 1.1]\n",
      " [5.9 3.2 4.8 1.8]\n",
      " [6.1 2.8 4.  1.3]\n",
      " [6.3 2.5 4.9 1.5]\n",
      " [6.1 2.8 4.7 1.2]\n",
      " [6.4 2.9 4.3 1.3]\n",
      " [6.6 3.  4.4 1.4]\n",
      " [6.8 2.8 4.8 1.4]\n",
      " [6.7 3.  5.  1.7]\n",
      " [6.  2.9 4.5 1.5]\n",
      " [5.7 2.6 3.5 1. ]\n",
      " [5.5 2.4 3.8 1.1]\n",
      " [5.5 2.4 3.7 1. ]\n",
      " [5.8 2.7 3.9 1.2]\n",
      " [6.  2.7 5.1 1.6]\n",
      " [5.4 3.  4.5 1.5]\n",
      " [6.  3.4 4.5 1.6]\n",
      " [6.7 3.1 4.7 1.5]\n",
      " [6.3 2.3 4.4 1.3]\n",
      " [5.6 3.  4.1 1.3]\n",
      " [5.5 2.5 4.  1.3]\n",
      " [5.5 2.6 4.4 1.2]\n",
      " [6.1 3.  4.6 1.4]\n",
      " [5.8 2.6 4.  1.2]\n",
      " [5.  2.3 3.3 1. ]\n",
      " [5.6 2.7 4.2 1.3]\n",
      " [5.7 3.  4.2 1.2]\n",
      " [5.7 2.9 4.2 1.3]\n",
      " [6.2 2.9 4.3 1.3]\n",
      " [5.1 2.5 3.  1.1]\n",
      " [5.7 2.8 4.1 1.3]\n",
      " [6.3 3.3 6.  2.5]\n",
      " [5.8 2.7 5.1 1.9]\n",
      " [7.1 3.  5.9 2.1]\n",
      " [6.3 2.9 5.6 1.8]\n",
      " [6.5 3.  5.8 2.2]\n",
      " [7.6 3.  6.6 2.1]\n",
      " [4.9 2.5 4.5 1.7]\n",
      " [7.3 2.9 6.3 1.8]\n",
      " [6.7 2.5 5.8 1.8]\n",
      " [7.2 3.6 6.1 2.5]\n",
      " [6.5 3.2 5.1 2. ]\n",
      " [6.4 2.7 5.3 1.9]\n",
      " [6.8 3.  5.5 2.1]\n",
      " [5.7 2.5 5.  2. ]\n",
      " [5.8 2.8 5.1 2.4]\n",
      " [6.4 3.2 5.3 2.3]\n",
      " [6.5 3.  5.5 1.8]\n",
      " [7.7 3.8 6.7 2.2]\n",
      " [7.7 2.6 6.9 2.3]\n",
      " [6.  2.2 5.  1.5]\n",
      " [6.9 3.2 5.7 2.3]\n",
      " [5.6 2.8 4.9 2. ]\n",
      " [7.7 2.8 6.7 2. ]\n",
      " [6.3 2.7 4.9 1.8]\n",
      " [6.7 3.3 5.7 2.1]\n",
      " [7.2 3.2 6.  1.8]\n",
      " [6.2 2.8 4.8 1.8]\n",
      " [6.1 3.  4.9 1.8]\n",
      " [6.4 2.8 5.6 2.1]\n",
      " [7.2 3.  5.8 1.6]\n",
      " [7.4 2.8 6.1 1.9]\n",
      " [7.9 3.8 6.4 2. ]\n",
      " [6.4 2.8 5.6 2.2]\n",
      " [6.3 2.8 5.1 1.5]\n",
      " [6.1 2.6 5.6 1.4]\n",
      " [7.7 3.  6.1 2.3]\n",
      " [6.3 3.4 5.6 2.4]\n",
      " [6.4 3.1 5.5 1.8]\n",
      " [6.  3.  4.8 1.8]\n",
      " [6.9 3.1 5.4 2.1]\n",
      " [6.7 3.1 5.6 2.4]\n",
      " [6.9 3.1 5.1 2.3]\n",
      " [5.8 2.7 5.1 1.9]\n",
      " [6.8 3.2 5.9 2.3]\n",
      " [6.7 3.3 5.7 2.5]\n",
      " [6.7 3.  5.2 2.3]\n",
      " [6.3 2.5 5.  1.9]\n",
      " [6.5 3.  5.2 2. ]\n",
      " [6.2 3.4 5.4 2.3]\n",
      " [5.9 3.  5.1 1.8]]\n",
      "This is the shape of data: (150, 4)\n"
     ]
    }
   ],
   "source": [
    "iris = datasets.load_iris()                ## we will use iris data\n",
    "X = iris.data\n",
    "y = iris.target\n",
    "print(\"This is the data:\", X)\n",
    "print(\"This is the shape of data:\", X.shape)"
   ]
  },
  {
   "cell_type": "code",
   "execution_count": 34,
   "metadata": {},
   "outputs": [
    {
     "name": "stdout",
     "output_type": "stream",
     "text": [
      "These are the labels: [0 0 0 0 0 0 0 0 0 0 0 0 0 0 0 0 0 0 0 0 0 0 0 0 0 0 0 0 0 0 0 0 0 0 0 0 0\n",
      " 0 0 0 0 0 0 0 0 0 0 0 0 0 1 1 1 1 1 1 1 1 1 1 1 1 1 1 1 1 1 1 1 1 1 1 1 1\n",
      " 1 1 1 1 1 1 1 1 1 1 1 1 1 1 1 1 1 1 1 1 1 1 1 1 1 1 2 2 2 2 2 2 2 2 2 2 2\n",
      " 2 2 2 2 2 2 2 2 2 2 2 2 2 2 2 2 2 2 2 2 2 2 2 2 2 2 2 2 2 2 2 2 2 2 2 2 2\n",
      " 2 2]\n",
      "This is the shape of labels: (150,)\n"
     ]
    }
   ],
   "source": [
    "print(\"These are the labels:\", y)\n",
    "print(\"This is the shape of labels:\", y.shape)"
   ]
  },
  {
   "cell_type": "markdown",
   "metadata": {},
   "source": [
    "## Problem 10"
   ]
  },
  {
   "cell_type": "markdown",
   "metadata": {},
   "source": [
    "- Plot the clustering data using the code on the first slide of week 2 lecture 3.\n",
    "- How many groups do you observe? Change the number of cluster to vary the clustering result.\n",
    "- Plot the results with various number of clusters (e.g. 2, 3, 4, etc.)"
   ]
  },
  {
   "cell_type": "code",
   "execution_count": 36,
   "metadata": {},
   "outputs": [
    {
     "data": {
      "image/png": "[encoded data removed]",
      "text/plain": [
       "<Figure size 432x288 with 1 Axes>"
      ]
     },
     "metadata": {
      "needs_background": "light"
     },
     "output_type": "display_data"
    }
   ],
   "source": [
    "kmeans2 = KMeans(n_clusters = 2)                           ## number of clusters = 2\n",
    "kmeans2.fit(X)\n",
    "\n",
    "xc = kmeans2.transform(X)\n",
    "xc = kmeans2.labels_\n",
    "\n",
    "plt.figure()\n",
    "plt.scatter(X[:, 0], X[:, 2], c = xc.astype(np.float))\n",
    "plt.title('K-means clustering result: k =2')\n",
    "plt.show()"
   ]
  },
  {
   "cell_type": "code",
   "execution_count": 37,
   "metadata": {},
   "outputs": [
    {
     "data": {
      "image/png": "[encoded data removed]",
      "text/plain": [
       "<Figure size 432x288 with 1 Axes>"
      ]
     },
     "metadata": {
      "needs_background": "light"
     },
     "output_type": "display_data"
    }
   ],
   "source": [
    "kmeans3 = KMeans(n_clusters = 3)              ## number of clusters = 3\n",
    "kmeans3.fit(X)\n",
    "\n",
    "xc = kmeans3.transform(X)\n",
    "xc = kmeans3.labels_\n",
    "\n",
    "plt.figure()\n",
    "plt.scatter(X[:, 0], X[:, 2], c = xc.astype(np.float))\n",
    "plt.title('K-means clustering result: k = 3')\n",
    "plt.show()"
   ]
  },
  {
   "cell_type": "markdown",
   "metadata": {},
   "source": [
    "## To know more about numpy operations, check here: https://cs231n.github.io/python-numpy-tutorial/\n",
    "\n"
   ]
  }
 ],
 "metadata": {
  "kernelspec": {
   "display_name": "Python 3",
   "language": "python",
   "name": "python3"
  },
  "language_info": {
   "codemirror_mode": {
    "name": "ipython",
    "version": 3
   },
   "file_extension": ".py",
   "mimetype": "text/x-python",
   "name": "python",
   "nbconvert_exporter": "python",
   "pygments_lexer": "ipython3",
   "version": "3.7.2"
  }
 },
 "nbformat": 4,
 "nbformat_minor": 2
}
