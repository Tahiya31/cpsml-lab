{
 "cells": [
  {
   "cell_type": "markdown",
   "metadata": {},
   "source": [
    "## Lab 1 solutions"
   ]
  },
  {
   "cell_type": "markdown",
   "metadata": {},
   "source": [
    "## Problem 1"
   ]
  },
  {
   "cell_type": "markdown",
   "metadata": {},
   "source": [
    "Print 'Hello World'\n",
    "\n",
    "- Run `print(\"Machine Learning\")` in a jupyter cell.\n",
    "- Replace `Machine Learning` with `Hello World`.\n",
    "- Now declare a variable `my_text` with some text in the value. Print the variable.\n"
   ]
  },
  {
   "cell_type": "code",
   "execution_count": 10,
   "metadata": {},
   "outputs": [
    {
     "name": "stdout",
     "output_type": "stream",
     "text": [
      "MY NAME IS TAHIYA\n"
     ]
    }
   ],
   "source": [
    "print(\"MY NAME IS TAHIYA\")"
   ]
  },
  {
   "cell_type": "code",
   "execution_count": 1,
   "metadata": {},
   "outputs": [
    {
     "name": "stdout",
     "output_type": "stream",
     "text": [
      "Machine Learning\n"
     ]
    }
   ],
   "source": [
    "print(\"Machine Learning\") # to run this cell, press shift+enter"
   ]
  },
  {
   "cell_type": "code",
   "execution_count": 4,
   "metadata": {},
   "outputs": [
    {
     "name": "stdout",
     "output_type": "stream",
     "text": [
      "Hello World\n"
     ]
    }
   ],
   "source": [
    "print(\"Hello World\") # replace 'Machine leraning' with 'Hello World'"
   ]
  },
  {
   "cell_type": "code",
   "execution_count": 9,
   "metadata": {},
   "outputs": [
    {
     "name": "stdout",
     "output_type": "stream",
     "text": [
      "Hello, welcome to second lab!\n"
     ]
    }
   ],
   "source": [
    "country_name = \"Hello, welcome to second lab!\"   # my_text is a variable, Hello, welcome to first lab! is the value\n",
    "print(country_name)   # we can print any text like this using print command"
   ]
  },
  {
   "cell_type": "markdown",
   "metadata": {},
   "source": [
    "## Problem 2"
   ]
  },
  {
   "cell_type": "markdown",
   "metadata": {},
   "source": [
    "Declare 2 variables ‘x’ and ‘y’ with values ‘20’ and ‘4’.\n",
    "- Add them `x+y`. Print the result.\n",
    "- Subtract them `x-y` Print the result.\n",
    "- Multiply them `x*y` Print the result.\n",
    "- Exponentiate x with power of 2 and and y with power of 3. Print the result.\n"
   ]
  },
  {
   "cell_type": "code",
   "execution_count": 11,
   "metadata": {},
   "outputs": [],
   "source": [
    "x = 30\n",
    "y = 5"
   ]
  },
  {
   "cell_type": "code",
   "execution_count": 12,
   "metadata": {},
   "outputs": [
    {
     "name": "stdout",
     "output_type": "stream",
     "text": [
      "30\n",
      "5\n"
     ]
    }
   ],
   "source": [
    "print(x)\n",
    "print(y)"
   ]
  },
  {
   "cell_type": "code",
   "execution_count": 24,
   "metadata": {},
   "outputs": [
    {
     "data": {
      "text/plain": [
       "float"
      ]
     },
     "execution_count": 24,
     "metadata": {},
     "output_type": "execute_result"
    }
   ],
   "source": [
    "x = 20.0  #declaring variables and assigning values here\n",
    "y = 4     ## integer is full number, float is number with precision after decimal\n",
    "type(x)"
   ]
  },
  {
   "cell_type": "code",
   "execution_count": 17,
   "metadata": {},
   "outputs": [
    {
     "name": "stdout",
     "output_type": "stream",
     "text": [
      "Addition: 24\n"
     ]
    }
   ],
   "source": [
    "print(\"Addition:\", x+y)"
   ]
  },
  {
   "cell_type": "code",
   "execution_count": 19,
   "metadata": {},
   "outputs": [
    {
     "name": "stdout",
     "output_type": "stream",
     "text": [
      "Addition Result: 24\n",
      "Subtraction Result: 16\n",
      "Multiplication Result: 80\n",
      "x^2 Result: 400\n",
      "y^3 Result: 64\n"
     ]
    }
   ],
   "source": [
    "print(\"Addition Result:\", x+y)       ## x+y, adding\n",
    "print(\"Subtraction Result:\", x-y)    ## x-y, subtracting\n",
    "print(\"Multiplication Result:\", x*y) ## x*y, multiplying\n",
    "print(\"x^2 Result:\", x*x)            ## x powered by 2\n",
    "print(\"y^3 Result:\", y*y*y)          ## y powered by 3"
   ]
  },
  {
   "cell_type": "code",
   "execution_count": 20,
   "metadata": {},
   "outputs": [
    {
     "name": "stdout",
     "output_type": "stream",
     "text": [
      "x^2 Result: 10240000000000\n",
      "y^3 Result: 1024\n"
     ]
    }
   ],
   "source": [
    "print(\"x^2 Result:\", pow(x, 10))      ## alternate way of powering using pow function\n",
    "print(\"y^3 Result:\", pow(y, 5))      ## for example, if you want to compute 6 to the power of 2, use pow(6, 2)"
   ]
  },
  {
   "cell_type": "markdown",
   "metadata": {},
   "source": [
    "## Problem 3"
   ]
  },
  {
   "cell_type": "markdown",
   "metadata": {},
   "source": [
    "Declare a list of 5 animals: ['cat', 'dog', 'monkey', 'bird', 'turtle']\n",
    "- Print the elements in the list using a for loop."
   ]
  },
  {
   "cell_type": "code",
   "execution_count": 29,
   "metadata": {},
   "outputs": [
    {
     "name": "stdout",
     "output_type": "stream",
     "text": [
      "['cat', 'dog', 'monkey', 'bird', 'turtle']\n"
     ]
    }
   ],
   "source": [
    "animal_List = ['cat', 'dog', 'monkey', 'bird', 'turtle']\n",
    "print(animal_List)"
   ]
  },
  {
   "cell_type": "code",
   "execution_count": 33,
   "metadata": {},
   "outputs": [
    {
     "name": "stdout",
     "output_type": "stream",
     "text": [
      "cat\n",
      "dog\n",
      "monkey\n",
      "bird\n",
      "turtle\n"
     ]
    }
   ],
   "source": [
    "print(animal_List[0])   ## this is 0-indexing\n",
    "print(animal_List[1])\n",
    "print(animal_List[2]) \n",
    "print(animal_List[3])\n",
    "print(animal_List[4])\n"
   ]
  },
  {
   "cell_type": "code",
   "execution_count": 35,
   "metadata": {},
   "outputs": [
    {
     "name": "stdout",
     "output_type": "stream",
     "text": [
      "cat\n",
      "dog\n",
      "monkey\n",
      "bird\n",
      "turtle\n"
     ]
    }
   ],
   "source": [
    "for  i   in animal_List:\n",
    "    print(i)\n",
    "    "
   ]
  },
  {
   "cell_type": "code",
   "execution_count": 7,
   "metadata": {},
   "outputs": [
    {
     "name": "stdout",
     "output_type": "stream",
     "text": [
      "['cat', 'dog', 'monkey', 'bird', 'turtle']\n"
     ]
    }
   ],
   "source": [
    "animals_list = ['cat', 'dog', 'monkey', 'bird', 'turtle']\n",
    "print(animals_list)"
   ]
  },
  {
   "cell_type": "code",
   "execution_count": 8,
   "metadata": {},
   "outputs": [
    {
     "name": "stdout",
     "output_type": "stream",
     "text": [
      "cat\n",
      "dog\n",
      "monkey\n",
      "bird\n",
      "turtle\n"
     ]
    }
   ],
   "source": [
    "for animal in animals_list:  ## this is a for loop, which goes through the elements in animals_list using the animal variable\n",
    "    print(animal)"
   ]
  },
  {
   "cell_type": "markdown",
   "metadata": {},
   "source": [
    "## Declare a list of 1 to 10\n",
    "## print each element using a for loop"
   ]
  },
  {
   "cell_type": "code",
   "execution_count": 37,
   "metadata": {},
   "outputs": [
    {
     "name": "stdout",
     "output_type": "stream",
     "text": [
      "Number is 1\n",
      "Number is 2\n",
      "Number is 3\n",
      "Number is 4\n",
      "Number is 5\n",
      "Number is 6\n",
      "Number is 7\n",
      "Number is 8\n",
      "Number is 9\n",
      "Number is 10\n"
     ]
    }
   ],
   "source": [
    "number_list = [1, 2, 3, 4, 5, 6, 7, 8, 9, 10]\n",
    "for number in number_list:\n",
    "    print(\"Number is\", number)"
   ]
  },
  {
   "cell_type": "markdown",
   "metadata": {},
   "source": [
    "## Problem 4"
   ]
  },
  {
   "cell_type": "markdown",
   "metadata": {},
   "source": [
    "Create a python list with list elements from 1 to 15\n",
    "\n",
    "- Print all list elements.\n",
    "- Print elements from 5th to last position.\n",
    "- Print the last element.\n",
    "- Print the squared value of every 3rd of the elements.\n"
   ]
  },
  {
   "cell_type": "code",
   "execution_count": 42,
   "metadata": {},
   "outputs": [
    {
     "name": "stdout",
     "output_type": "stream",
     "text": [
      "1\n",
      "2\n",
      "3\n",
      "4\n",
      "5\n",
      "6\n",
      "7\n",
      "8\n",
      "9\n",
      "10\n",
      "11\n",
      "12\n",
      "13\n",
      "14\n",
      "15\n"
     ]
    }
   ],
   "source": [
    "number_List = list(range(1, 16))   ## built-in functions appear in green\n",
    "for number in number_List:\n",
    "    print(number)"
   ]
  },
  {
   "cell_type": "code",
   "execution_count": 44,
   "metadata": {},
   "outputs": [
    {
     "name": "stdout",
     "output_type": "stream",
     "text": [
      "[1, 2, 3, 4, 5, 6, 7, 8, 9, 10, 11, 12, 13, 14, 15]\n",
      "1\n",
      "2\n",
      "3\n",
      "4\n",
      "5\n",
      "6\n",
      "7\n",
      "8\n",
      "9\n",
      "10\n",
      "11\n",
      "12\n",
      "13\n",
      "14\n",
      "15\n"
     ]
    }
   ],
   "source": [
    "number_list = list(range(1, 16))  \n",
    "print(number_list)             ## this prints the list\n",
    "for num in number_list:        ## this prints each element of the list one by one through for loop\n",
    "    print(num)"
   ]
  },
  {
   "cell_type": "code",
   "execution_count": 45,
   "metadata": {},
   "outputs": [
    {
     "data": {
      "text/plain": [
       "15"
      ]
     },
     "execution_count": 45,
     "metadata": {},
     "output_type": "execute_result"
    }
   ],
   "source": [
    "len(number_list)"
   ]
  },
  {
   "cell_type": "code",
   "execution_count": 24,
   "metadata": {},
   "outputs": [
    {
     "name": "stdout",
     "output_type": "stream",
     "text": [
      "5\n",
      "6\n",
      "7\n",
      "8\n",
      "9\n",
      "10\n",
      "11\n",
      "12\n",
      "13\n",
      "14\n",
      "15\n"
     ]
    }
   ],
   "source": [
    "for num in range(5, len(number_list)+1):  ## this loop goes through each element starting from 5th position to the last one\n",
    "    print(num)"
   ]
  },
  {
   "cell_type": "code",
   "execution_count": 50,
   "metadata": {},
   "outputs": [
    {
     "name": "stdout",
     "output_type": "stream",
     "text": [
      "15\n"
     ]
    }
   ],
   "source": [
    "print(number_list[-1])   # index is 0 to 14"
   ]
  },
  {
   "cell_type": "code",
   "execution_count": 20,
   "metadata": {},
   "outputs": [
    {
     "name": "stdout",
     "output_type": "stream",
     "text": [
      "15\n"
     ]
    }
   ],
   "source": [
    "print(number_list[-1])  ## printing last element of the list"
   ]
  },
  {
   "cell_type": "code",
   "execution_count": 62,
   "metadata": {},
   "outputs": [
    {
     "name": "stdout",
     "output_type": "stream",
     "text": [
      "The number is 0 | the squared value is 0\n",
      "The number is 3 | the squared value is 9\n",
      "The number is 6 | the squared value is 36\n",
      "The number is 9 | the squared value is 81\n",
      "The number is 12 | the squared value is 144\n",
      "The number is 15 | the squared value is 225\n"
     ]
    }
   ],
   "source": [
    "for num in range(0, 16, 3):  # %d means integer, %f means float\n",
    "    print(\"The number is %d | the squared value is %d\" %(num, num**2))"
   ]
  },
  {
   "cell_type": "code",
   "execution_count": 55,
   "metadata": {},
   "outputs": [
    {
     "name": "stdout",
     "output_type": "stream",
     "text": [
      "The number is  1\n",
      "The number is  4\n",
      "The number is  7\n",
      "The number is  10\n",
      "The number is  13\n"
     ]
    }
   ],
   "source": [
    "for num in range(1, 16, 3):\n",
    "    print(\"The number is \", num)"
   ]
  },
  {
   "cell_type": "code",
   "execution_count": null,
   "metadata": {},
   "outputs": [],
   "source": []
  },
  {
   "cell_type": "code",
   "execution_count": 34,
   "metadata": {},
   "outputs": [
    {
     "name": "stdout",
     "output_type": "stream",
     "text": [
      "The number is:  1 | The squared value is:  1\n",
      "The number is:  4 | The squared value is:  16\n",
      "The number is:  7 | The squared value is:  49\n",
      "The number is:  10 | The squared value is:  100\n",
      "The number is:  13 | The squared value is:  169\n"
     ]
    }
   ],
   "source": [
    "for num in range(1, 16, 3):  ## printing squared value of every 3rd element starting from the first element of the list\n",
    "    print(\"The number is: % d | The squared value is: % d\" % (num,num*num))"
   ]
  },
  {
   "cell_type": "code",
   "execution_count": 35,
   "metadata": {},
   "outputs": [
    {
     "name": "stdout",
     "output_type": "stream",
     "text": [
      "The number is:  3 | The squared value is:  9\n",
      "The number is:  6 | The squared value is:  36\n",
      "The number is:  9 | The squared value is:  81\n",
      "The number is:  12 | The squared value is:  144\n",
      "The number is:  15 | The squared value is:  225\n"
     ]
    }
   ],
   "source": [
    "for num in range(3, 16, 3):  ## printing squared value of every 3rd element \n",
    "    print(\"The number is: % d | The squared value is: % d\" % (num,num*num))"
   ]
  },
  {
   "cell_type": "markdown",
   "metadata": {},
   "source": [
    "## Problem 5"
   ]
  },
  {
   "cell_type": "markdown",
   "metadata": {},
   "source": [
    "Consider the string: ‘www.google.com’\n",
    "- Calculate the length of the string and print it.\n"
   ]
  },
  {
   "cell_type": "code",
   "execution_count": 65,
   "metadata": {},
   "outputs": [
    {
     "name": "stdout",
     "output_type": "stream",
     "text": [
      "The length of the string Rutgers-Summer-China is 20\n"
     ]
    }
   ],
   "source": [
    "string2 = \"Rutgers-Summer-China\"\n",
    "print(\"The length of the string %s is %d\" %(string2, len(string2)))"
   ]
  },
  {
   "cell_type": "code",
   "execution_count": 67,
   "metadata": {},
   "outputs": [
    {
     "name": "stdout",
     "output_type": "stream",
     "text": [
      "The length of the string www.google.com is: 14\n"
     ]
    }
   ],
   "source": [
    "string1 = \"www.google.com\"\n",
    "print(\"The length of the string %s is: %d\" % (string1, len(string1)))"
   ]
  },
  {
   "cell_type": "markdown",
   "metadata": {},
   "source": [
    "## Problem 6"
   ]
  },
  {
   "cell_type": "markdown",
   "metadata": {},
   "source": [
    "Consider the string: ‘www.google.com’\n",
    "- Count the number of times each character appears (character frequency) in the string. Print in this format `{ 'o': 3, .......}`"
   ]
  },
  {
   "cell_type": "code",
   "execution_count": 71,
   "metadata": {},
   "outputs": [],
   "source": [
    "def bowl(food):\n",
    "    print(\"This is a %s bowl\" %food)"
   ]
  },
  {
   "cell_type": "code",
   "execution_count": 73,
   "metadata": {},
   "outputs": [
    {
     "name": "stdout",
     "output_type": "stream",
     "text": [
      "This is a cereal bowl\n"
     ]
    }
   ],
   "source": [
    "bowl(\"cereal\")"
   ]
  },
  {
   "cell_type": "code",
   "execution_count": 74,
   "metadata": {},
   "outputs": [
    {
     "name": "stdout",
     "output_type": "stream",
     "text": [
      "This is a soup bowl\n"
     ]
    }
   ],
   "source": [
    "bowl(\"soup\")"
   ]
  },
  {
   "cell_type": "code",
   "execution_count": 75,
   "metadata": {},
   "outputs": [
    {
     "ename": "NameError",
     "evalue": "name 'google' is not defined",
     "output_type": "error",
     "traceback": [
      "\u001b[0;31m---------------------------------------------------------------------------\u001b[0m",
      "\u001b[0;31mNameError\u001b[0m                                 Traceback (most recent call last)",
      "\u001b[0;32m<ipython-input-75-2763e75bf670>\u001b[0m in \u001b[0;36m<module>\u001b[0;34m\u001b[0m\n\u001b[1;32m      9\u001b[0m             \u001b[0mdict\u001b[0m\u001b[0;34m[\u001b[0m\u001b[0mn\u001b[0m\u001b[0;34m]\u001b[0m \u001b[0;34m=\u001b[0m \u001b[0;36m1\u001b[0m\u001b[0;34m\u001b[0m\u001b[0;34m\u001b[0m\u001b[0m\n\u001b[1;32m     10\u001b[0m     \u001b[0;32mreturn\u001b[0m \u001b[0mdict\u001b[0m\u001b[0;34m\u001b[0m\u001b[0;34m\u001b[0m\u001b[0m\n\u001b[0;32m---> 11\u001b[0;31m \u001b[0mprint\u001b[0m\u001b[0;34m(\u001b[0m\u001b[0mchar_frequency\u001b[0m\u001b[0;34m(\u001b[0m\u001b[0mgoogle\u001b[0m\u001b[0;34m)\u001b[0m\u001b[0;34m)\u001b[0m\u001b[0;34m\u001b[0m\u001b[0;34m\u001b[0m\u001b[0m\n\u001b[0m",
      "\u001b[0;31mNameError\u001b[0m: name 'google' is not defined"
     ]
    }
   ],
   "source": [
    "def char_frequency(str1):\n",
    "    dict = {}   ## empty dictionary\n",
    "    print(dict)\n",
    "    for n in str1:\n",
    "        keys = dict.keys()\n",
    "        if n in keys:\n",
    "            dict[n] += 1\n",
    "        else:\n",
    "            dict[n] = 1\n",
    "    return dict\n",
    "print(char_frequency(google))"
   ]
  },
  {
   "cell_type": "code",
   "execution_count": 76,
   "metadata": {},
   "outputs": [],
   "source": [
    "string1 = \"www.google.com\""
   ]
  },
  {
   "cell_type": "code",
   "execution_count": 79,
   "metadata": {},
   "outputs": [
    {
     "name": "stdout",
     "output_type": "stream",
     "text": [
      "{'w': 3, '.': 2, 'g': 2, 'o': 3, 'l': 1, 'e': 1, 'c': 1, 'm': 1}\n"
     ]
    }
   ],
   "source": [
    "dict_count = {}              ## creating an empty dictionary\n",
    "\n",
    "for s in string1:            ## going through each character in the string via the for loop\n",
    "    keys = dict_count.keys() ## storing the keys of the dictionary (the characters) in keys)\n",
    "    #print(keys)\n",
    "    \n",
    "    \n",
    "    if s in keys:\n",
    "        dict_count[s]+=1     ## if the character is already among the keys, increase by 1 the existing value corresonding to the key\n",
    "        #print(dict_count)\n",
    "    else:\n",
    "        dict_count[s]=1      ## if not, set the value corresponding to the key to 1\n",
    "\n",
    "print(dict_count)\n",
    "    "
   ]
  },
  {
   "cell_type": "markdown",
   "metadata": {},
   "source": [
    "## Problem 7"
   ]
  },
  {
   "cell_type": "markdown",
   "metadata": {},
   "source": [
    "Consider two strings ‘Bill’ and ‘Fox’.\n",
    "- Create a single string from the two given strings, separated by a space and swap the first two characters of each string. Print the result"
   ]
  },
  {
   "cell_type": "code",
   "execution_count": 80,
   "metadata": {},
   "outputs": [],
   "source": [
    "string1 = \"Bill\"\n",
    "string2= \"Fox\""
   ]
  },
  {
   "cell_type": "code",
   "execution_count": 83,
   "metadata": {},
   "outputs": [
    {
     "name": "stdout",
     "output_type": "stream",
     "text": [
      "Bill Fox\n"
     ]
    }
   ],
   "source": [
    "string3 = string1 + ' ' + string2   # ' ' this denotes space\n",
    "print(string3)"
   ]
  },
  {
   "cell_type": "code",
   "execution_count": 90,
   "metadata": {},
   "outputs": [
    {
     "name": "stdout",
     "output_type": "stream",
     "text": [
      "Bi\n",
      "Fo\n"
     ]
    }
   ],
   "source": [
    "print(string1[:2])\n",
    "print(string2[:2])"
   ]
  },
  {
   "cell_type": "code",
   "execution_count": 91,
   "metadata": {},
   "outputs": [
    {
     "name": "stdout",
     "output_type": "stream",
     "text": [
      "ll\n",
      "x\n"
     ]
    }
   ],
   "source": [
    "print(string1[2:])\n",
    "print(string2[2:])"
   ]
  },
  {
   "cell_type": "code",
   "execution_count": 93,
   "metadata": {},
   "outputs": [
    {
     "name": "stdout",
     "output_type": "stream",
     "text": [
      "Bix\n",
      "Foll\n"
     ]
    }
   ],
   "source": [
    "new_string1 = string1[:2] + string2[2:]\n",
    "new_string2 = string2[:2] + string1[2:]\n",
    "print(new_string1)\n",
    "print(new_string2)"
   ]
  },
  {
   "cell_type": "code",
   "execution_count": 120,
   "metadata": {},
   "outputs": [
    {
     "name": "stdout",
     "output_type": "stream",
     "text": [
      "Bix\n",
      "Foll\n",
      "The new string is Foll Bix\n"
     ]
    }
   ],
   "source": [
    "new_string1 = string1[:2] + string2[2:]   ## contains first two characters from string1 and last character from string2\n",
    "new_string2 = string2[:2] + string1[2:]   ## contains first two characters from string2 and last character from string1\n",
    "print(new_string1)\n",
    "print(new_string2)\n",
    "print (\"The new string is %s %s\" % (new_string2, new_string1))"
   ]
  },
  {
   "cell_type": "markdown",
   "metadata": {},
   "source": [
    "## Problem 8"
   ]
  },
  {
   "cell_type": "markdown",
   "metadata": {},
   "source": [
    "Consider the string ‘Caterpiller’.\n",
    "\n",
    "- remove all occurence of `er` from the string. Print the result.\n",
    "- remove the n-th index character from the original string, where n = 3, 6, 9. print the result in all 3 cases."
   ]
  },
  {
   "cell_type": "code",
   "execution_count": 97,
   "metadata": {},
   "outputs": [
    {
     "data": {
      "text/plain": [
       "'catpill'"
      ]
     },
     "execution_count": 97,
     "metadata": {},
     "output_type": "execute_result"
    }
   ],
   "source": [
    "string = \"caterpiller\"\n",
    "string.replace('er', '')"
   ]
  },
  {
   "cell_type": "code",
   "execution_count": 98,
   "metadata": {},
   "outputs": [
    {
     "name": "stdout",
     "output_type": "stream",
     "text": [
      "I was a Caterpiller \n",
      "Now I am a Catpill \n"
     ]
    }
   ],
   "source": [
    "big_string = \"Caterpiller\"\n",
    "little_string = big_string.replace('er', '')  ## removing all occurance of 'er' using string replace function \n",
    "\n",
    "print(\"I was a %s \" % big_string)\n",
    "print(\"Now I am a %s \" %little_string)"
   ]
  },
  {
   "cell_type": "code",
   "execution_count": 99,
   "metadata": {},
   "outputs": [
    {
     "name": "stdout",
     "output_type": "stream",
     "text": [
      "Now I am a Catypilly \n"
     ]
    }
   ],
   "source": [
    "little_string = big_string.replace('er', 'y') ## extra: how to replace 'er' with 'y'\n",
    "print(\"Now I am a %s \" %little_string)"
   ]
  },
  {
   "cell_type": "code",
   "execution_count": 103,
   "metadata": {},
   "outputs": [
    {
     "name": "stdout",
     "output_type": "stream",
     "text": [
      "Removing 3 indexed character e, we get Catrpiller\n",
      "Removing 6 indexed character i, we get Caterpller\n",
      "Removing 9 indexed character e, we get Caterpillr\n"
     ]
    }
   ],
   "source": [
    "n_indexes = [3, 6, 9]\n",
    "for n in n_indexes:\n",
    "    print(\"Removing %d indexed character %s, we get %s\" %(n, big_string[n], big_string[:n]+big_string[n+1:]))"
   ]
  },
  {
   "cell_type": "code",
   "execution_count": 100,
   "metadata": {},
   "outputs": [
    {
     "name": "stdout",
     "output_type": "stream",
     "text": [
      " Removing 3 indexed character e, we get Catrpiller \n",
      " Removing 6 indexed character i, we get Caterpller \n",
      " Removing 9 indexed character e, we get Caterpillr \n"
     ]
    }
   ],
   "source": [
    "n_indexes = [3, 6, 9]\n",
    "\n",
    "for n in n_indexes:   \n",
    "    #print(n)\n",
    "    print(\" Removing %d indexed character %s, we get %s \" % (n, big_string[n], (big_string[:n] + big_string[n+1:])))"
   ]
  },
  {
   "cell_type": "markdown",
   "metadata": {},
   "source": [
    "## Problem 9"
   ]
  },
  {
   "cell_type": "markdown",
   "metadata": {},
   "source": [
    "Consider this comma seperated sequence of words: ['breakfast', 'towel', 'noon', 'magical', 'profession']\n",
    "\n",
    "- take this sequence of words as input and print the length of the longest word."
   ]
  },
  {
   "cell_type": "code",
   "execution_count": 104,
   "metadata": {},
   "outputs": [],
   "source": [
    "words = ['breakfast', 'towel', 'noon', 'magical', 'profession']\n"
   ]
  },
  {
   "cell_type": "code",
   "execution_count": 113,
   "metadata": {},
   "outputs": [
    {
     "name": "stdout",
     "output_type": "stream",
     "text": [
      "[(9, 'breakfast')]\n",
      "[(9, 'breakfast'), (5, 'towel')]\n",
      "[(9, 'breakfast'), (5, 'towel'), (4, 'noon')]\n",
      "[(9, 'breakfast'), (5, 'towel'), (4, 'noon'), (7, 'magical')]\n",
      "[(9, 'breakfast'), (5, 'towel'), (4, 'noon'), (7, 'magical'), (10, 'profession')]\n",
      "[(4, 'noon'), (5, 'towel'), (7, 'magical'), (9, 'breakfast'), (10, 'profession')]\n"
     ]
    },
    {
     "data": {
      "text/plain": [
       "(10, 'profession')"
      ]
     },
     "execution_count": 113,
     "metadata": {},
     "output_type": "execute_result"
    }
   ],
   "source": [
    "words_len = []\n",
    "for word in words:\n",
    "    words_len.append((len(word), word))\n",
    "    print(words_len)\n",
    "words_len.sort()\n",
    "print(words_len)\n",
    "words_len[-1][:]"
   ]
  },
  {
   "cell_type": "code",
   "execution_count": 122,
   "metadata": {},
   "outputs": [
    {
     "name": "stdout",
     "output_type": "stream",
     "text": [
      "9\n",
      "5\n",
      "4\n",
      "7\n",
      "10\n",
      "Word length from smallest to largest [(4, 'noon'), (5, 'towel'), (7, 'magical'), (9, 'breakfast'), (10, 'profession')]\n",
      "Largest word is: [(10, 'profession')]\n"
     ]
    }
   ],
   "source": [
    "words_len = []                            ## creating an empty list\n",
    "for word in words:\n",
    "    words_len.append((len(word), word))   ## adding (append) in the list each word and the length of it\n",
    "    print(len(word))\n",
    "    words_len.sort()                      ## sorting it ascending order \n",
    "\n",
    "print(\"Word length from smallest to largest\", words_len)\n",
    "print(\"Largest word is:\", words_len[-1:][:])                 ## accessing the last element (which is the longest) in the sorted list"
   ]
  },
  {
   "cell_type": "markdown",
   "metadata": {},
   "source": [
    "## Problem 10"
   ]
  },
  {
   "cell_type": "markdown",
   "metadata": {},
   "source": [
    "Consider the sentence ‘the quick brown fox jumps over the lazy dog’\n",
    "- Count the occurrences of each word in the sentence. Print the result."
   ]
  },
  {
   "cell_type": "code",
   "execution_count": 116,
   "metadata": {},
   "outputs": [
    {
     "name": "stdout",
     "output_type": "stream",
     "text": [
      "the quick brown fox jumps over the lazy dog\n",
      "['the', 'quick', 'brown', 'fox', 'jumps', 'over', 'the', 'lazy', 'dog']\n",
      "{'the': 2, 'quick': 1, 'brown': 1, 'fox': 1, 'jumps': 1, 'over': 1, 'lazy': 1, 'dog': 1}\n"
     ]
    }
   ],
   "source": [
    "text = \"the quick brown fox jumps over the lazy dog\"\n",
    "print(text)\n",
    "text = text.split()\n",
    "print(text)\n",
    "dict_count = {}\n",
    "\n",
    "for p in text:                     ## this method does character level occurance counting, same as Problem 6\n",
    "    keys = dict_count.keys()       \n",
    "    if p in keys:\n",
    "        dict_count[p]+=1\n",
    "    else:\n",
    "        dict_count[p]=1\n",
    "\n",
    "print(dict_count)\n",
    "        "
   ]
  },
  {
   "cell_type": "code",
   "execution_count": 124,
   "metadata": {},
   "outputs": [
    {
     "name": "stdout",
     "output_type": "stream",
     "text": [
      "['the', 'quick', 'brown', 'fox', 'jumps', 'over', 'the', 'lazy', 'dog']\n",
      "{'the': 2, 'quick': 1, 'brown': 1, 'fox': 1, 'jumps': 1, 'over': 1, 'lazy': 1, 'dog': 1}\n"
     ]
    }
   ],
   "source": [
    "text = \"the quick brown fox jumps over the lazy dog\"\n",
    "new_text = text.split()      \n",
    "print(new_text)      ## Creates a list of each word in the sentence\n",
    "\n",
    "\n",
    "dict_count = {}\n",
    "\n",
    "for p in new_text:\n",
    "    keys = dict_count.keys()\n",
    "    if p in keys:\n",
    "        dict_count[p]+=1\n",
    "    else:\n",
    "        dict_count[p]=1\n",
    "\n",
    "print(dict_count)\n",
    "        "
   ]
  },
  {
   "cell_type": "code",
   "execution_count": 122,
   "metadata": {},
   "outputs": [
    {
     "data": {
      "text/plain": [
       "1"
      ]
     },
     "execution_count": 122,
     "metadata": {},
     "output_type": "execute_result"
    }
   ],
   "source": [
    "import numpy as np\n",
    "a = [1, 2, 3, 4, 5]\n",
    "b = np.array([1, 2, 3, 4, 5])\n",
    "b.dtype\n",
    "b.ndim"
   ]
  },
  {
   "cell_type": "markdown",
   "metadata": {},
   "source": [
    "## Study the code snippets here and use print commands to understand how the codes work"
   ]
  },
  {
   "cell_type": "markdown",
   "metadata": {},
   "source": [
    "### For undertanding python basics, check this page: https://www.learnpython.org"
   ]
  }
 ],
 "metadata": {
  "kernelspec": {
   "display_name": "Python 3",
   "language": "python",
   "name": "python3"
  },
  "language_info": {
   "codemirror_mode": {
    "name": "ipython",
    "version": 3
   },
   "file_extension": ".py",
   "mimetype": "text/x-python",
   "name": "python",
   "nbconvert_exporter": "python",
   "pygments_lexer": "ipython3",
   "version": "3.7.2"
  }
 },
 "nbformat": 4,
 "nbformat_minor": 2
}
